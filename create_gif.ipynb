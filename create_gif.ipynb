{
 "cells": [
  {
   "cell_type": "code",
   "execution_count": 4,
   "metadata": {},
   "outputs": [],
   "source": [
    "from PIL import Image, ImageOps\n",
    "import os\n",
    "\n",
    "def find_max_dimensions(image_paths):\n",
    "    \"\"\"\n",
    "    Finds the maximum width and height among a list of images.\n",
    "    \"\"\"\n",
    "    max_width = 0\n",
    "    max_height = 0\n",
    "    for path in image_paths:\n",
    "        with Image.open(path) as img:\n",
    "            max_width = max(max_width, img.width)\n",
    "            max_height = max(max_height, img.height)\n",
    "    return max_width, max_height\n",
    "\n",
    "def create_gif(image_folder, output_path, frame_duration):\n",
    "    \"\"\"\n",
    "    Creates a gif from a series of images, resizing and padding them to have the same size.\n",
    "\n",
    "    :param image_folder: The folder where the images are stored.\n",
    "    :param output_path: The path to save the GIF.\n",
    "    :param frame_duration: Duration of each frame in milliseconds.\n",
    "    \"\"\"\n",
    "    image_paths = [os.path.join(image_folder, f\"{i}.png\") for i in range(1, 7)]\n",
    "    max_width, max_height = find_max_dimensions(image_paths)\n",
    "\n",
    "    frames = []\n",
    "    for path in image_paths:\n",
    "        with Image.open(path) as img:\n",
    "            # Convert all images to 'RGBA' for consistency\n",
    "            if img.mode != 'RGBA':\n",
    "                img = img.convert('RGBA')\n",
    "\n",
    "            # Resize and center the image\n",
    "            img = ImageOps.pad(img, size=(max_width, max_height), centering=(0.5, 0.5))\n",
    "            frames.append(img)\n",
    "\n",
    "    frames[0].save(output_path, format='GIF', append_images=frames[1:], save_all=True, duration=frame_duration, loop=0)\n",
    "\n",
    "# Example usage\n",
    "create_gif('img', 'output.gif', 500)  # 500 milliseconds between frames\n"
   ]
  }
 ],
 "metadata": {
  "kernelspec": {
   "display_name": "Python 3",
   "language": "python",
   "name": "python3"
  },
  "language_info": {
   "codemirror_mode": {
    "name": "ipython",
    "version": 3
   },
   "file_extension": ".py",
   "mimetype": "text/x-python",
   "name": "python",
   "nbconvert_exporter": "python",
   "pygments_lexer": "ipython3",
   "version": "3.12.1"
  }
 },
 "nbformat": 4,
 "nbformat_minor": 2
}
